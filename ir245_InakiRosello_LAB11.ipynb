{
  "cells": [
    {
      "cell_type": "markdown",
      "metadata": {
        "id": "Np-PVIRCxB22"
      },
      "source": [
        "# Lab Exercise: SQL Analysis with Polars\n",
        "\n",
        "In this lab, you'll practice SQL queries using Polars' built-in SQL functionality. Complete each exercise by writing the appropriate SQL query."
      ]
    },
    {
      "cell_type": "code",
      "execution_count": 24,
      "metadata": {
        "colab": {
          "base_uri": "https://localhost:8080/",
          "height": 351
        },
        "id": "W2-_fCmgxB25",
        "outputId": "8938ec9f-b489-4d64-a5a6-db448bb71d24"
      },
      "outputs": [
        {
          "output_type": "display_data",
          "data": {
            "text/plain": [
              "<IPython.core.display.HTML object>"
            ],
            "text/html": [
              "\n",
              "     <input type=\"file\" id=\"files-90733b57-a225-442a-9d06-e044b56dbb03\" name=\"files[]\" multiple disabled\n",
              "        style=\"border:none\" />\n",
              "     <output id=\"result-90733b57-a225-442a-9d06-e044b56dbb03\">\n",
              "      Upload widget is only available when the cell has been executed in the\n",
              "      current browser session. Please rerun this cell to enable.\n",
              "      </output>\n",
              "      <script>// Copyright 2017 Google LLC\n",
              "//\n",
              "// Licensed under the Apache License, Version 2.0 (the \"License\");\n",
              "// you may not use this file except in compliance with the License.\n",
              "// You may obtain a copy of the License at\n",
              "//\n",
              "//      http://www.apache.org/licenses/LICENSE-2.0\n",
              "//\n",
              "// Unless required by applicable law or agreed to in writing, software\n",
              "// distributed under the License is distributed on an \"AS IS\" BASIS,\n",
              "// WITHOUT WARRANTIES OR CONDITIONS OF ANY KIND, either express or implied.\n",
              "// See the License for the specific language governing permissions and\n",
              "// limitations under the License.\n",
              "\n",
              "/**\n",
              " * @fileoverview Helpers for google.colab Python module.\n",
              " */\n",
              "(function(scope) {\n",
              "function span(text, styleAttributes = {}) {\n",
              "  const element = document.createElement('span');\n",
              "  element.textContent = text;\n",
              "  for (const key of Object.keys(styleAttributes)) {\n",
              "    element.style[key] = styleAttributes[key];\n",
              "  }\n",
              "  return element;\n",
              "}\n",
              "\n",
              "// Max number of bytes which will be uploaded at a time.\n",
              "const MAX_PAYLOAD_SIZE = 100 * 1024;\n",
              "\n",
              "function _uploadFiles(inputId, outputId) {\n",
              "  const steps = uploadFilesStep(inputId, outputId);\n",
              "  const outputElement = document.getElementById(outputId);\n",
              "  // Cache steps on the outputElement to make it available for the next call\n",
              "  // to uploadFilesContinue from Python.\n",
              "  outputElement.steps = steps;\n",
              "\n",
              "  return _uploadFilesContinue(outputId);\n",
              "}\n",
              "\n",
              "// This is roughly an async generator (not supported in the browser yet),\n",
              "// where there are multiple asynchronous steps and the Python side is going\n",
              "// to poll for completion of each step.\n",
              "// This uses a Promise to block the python side on completion of each step,\n",
              "// then passes the result of the previous step as the input to the next step.\n",
              "function _uploadFilesContinue(outputId) {\n",
              "  const outputElement = document.getElementById(outputId);\n",
              "  const steps = outputElement.steps;\n",
              "\n",
              "  const next = steps.next(outputElement.lastPromiseValue);\n",
              "  return Promise.resolve(next.value.promise).then((value) => {\n",
              "    // Cache the last promise value to make it available to the next\n",
              "    // step of the generator.\n",
              "    outputElement.lastPromiseValue = value;\n",
              "    return next.value.response;\n",
              "  });\n",
              "}\n",
              "\n",
              "/**\n",
              " * Generator function which is called between each async step of the upload\n",
              " * process.\n",
              " * @param {string} inputId Element ID of the input file picker element.\n",
              " * @param {string} outputId Element ID of the output display.\n",
              " * @return {!Iterable<!Object>} Iterable of next steps.\n",
              " */\n",
              "function* uploadFilesStep(inputId, outputId) {\n",
              "  const inputElement = document.getElementById(inputId);\n",
              "  inputElement.disabled = false;\n",
              "\n",
              "  const outputElement = document.getElementById(outputId);\n",
              "  outputElement.innerHTML = '';\n",
              "\n",
              "  const pickedPromise = new Promise((resolve) => {\n",
              "    inputElement.addEventListener('change', (e) => {\n",
              "      resolve(e.target.files);\n",
              "    });\n",
              "  });\n",
              "\n",
              "  const cancel = document.createElement('button');\n",
              "  inputElement.parentElement.appendChild(cancel);\n",
              "  cancel.textContent = 'Cancel upload';\n",
              "  const cancelPromise = new Promise((resolve) => {\n",
              "    cancel.onclick = () => {\n",
              "      resolve(null);\n",
              "    };\n",
              "  });\n",
              "\n",
              "  // Wait for the user to pick the files.\n",
              "  const files = yield {\n",
              "    promise: Promise.race([pickedPromise, cancelPromise]),\n",
              "    response: {\n",
              "      action: 'starting',\n",
              "    }\n",
              "  };\n",
              "\n",
              "  cancel.remove();\n",
              "\n",
              "  // Disable the input element since further picks are not allowed.\n",
              "  inputElement.disabled = true;\n",
              "\n",
              "  if (!files) {\n",
              "    return {\n",
              "      response: {\n",
              "        action: 'complete',\n",
              "      }\n",
              "    };\n",
              "  }\n",
              "\n",
              "  for (const file of files) {\n",
              "    const li = document.createElement('li');\n",
              "    li.append(span(file.name, {fontWeight: 'bold'}));\n",
              "    li.append(span(\n",
              "        `(${file.type || 'n/a'}) - ${file.size} bytes, ` +\n",
              "        `last modified: ${\n",
              "            file.lastModifiedDate ? file.lastModifiedDate.toLocaleDateString() :\n",
              "                                    'n/a'} - `));\n",
              "    const percent = span('0% done');\n",
              "    li.appendChild(percent);\n",
              "\n",
              "    outputElement.appendChild(li);\n",
              "\n",
              "    const fileDataPromise = new Promise((resolve) => {\n",
              "      const reader = new FileReader();\n",
              "      reader.onload = (e) => {\n",
              "        resolve(e.target.result);\n",
              "      };\n",
              "      reader.readAsArrayBuffer(file);\n",
              "    });\n",
              "    // Wait for the data to be ready.\n",
              "    let fileData = yield {\n",
              "      promise: fileDataPromise,\n",
              "      response: {\n",
              "        action: 'continue',\n",
              "      }\n",
              "    };\n",
              "\n",
              "    // Use a chunked sending to avoid message size limits. See b/62115660.\n",
              "    let position = 0;\n",
              "    do {\n",
              "      const length = Math.min(fileData.byteLength - position, MAX_PAYLOAD_SIZE);\n",
              "      const chunk = new Uint8Array(fileData, position, length);\n",
              "      position += length;\n",
              "\n",
              "      const base64 = btoa(String.fromCharCode.apply(null, chunk));\n",
              "      yield {\n",
              "        response: {\n",
              "          action: 'append',\n",
              "          file: file.name,\n",
              "          data: base64,\n",
              "        },\n",
              "      };\n",
              "\n",
              "      let percentDone = fileData.byteLength === 0 ?\n",
              "          100 :\n",
              "          Math.round((position / fileData.byteLength) * 100);\n",
              "      percent.textContent = `${percentDone}% done`;\n",
              "\n",
              "    } while (position < fileData.byteLength);\n",
              "  }\n",
              "\n",
              "  // All done.\n",
              "  yield {\n",
              "    response: {\n",
              "      action: 'complete',\n",
              "    }\n",
              "  };\n",
              "}\n",
              "\n",
              "scope.google = scope.google || {};\n",
              "scope.google.colab = scope.google.colab || {};\n",
              "scope.google.colab._files = {\n",
              "  _uploadFiles,\n",
              "  _uploadFilesContinue,\n",
              "};\n",
              "})(self);\n",
              "</script> "
            ]
          },
          "metadata": {}
        },
        {
          "output_type": "stream",
          "name": "stdout",
          "text": [
            "Saving nyc_airlines.csv to nyc_airlines (2).csv\n",
            "Saving nyc_airports.csv to nyc_airports (2).csv\n",
            "Uploaded: nyc_airlines (2).csv\n",
            "Uploaded: nyc_airports (2).csv\n",
            "Setup complete! Tables available:\n",
            "shape: (2, 1)\n",
            "┌──────────┐\n",
            "│ name     │\n",
            "│ ---      │\n",
            "│ str      │\n",
            "╞══════════╡\n",
            "│ airlines │\n",
            "│ airports │\n",
            "└──────────┘\n"
          ]
        },
        {
          "output_type": "stream",
          "name": "stderr",
          "text": [
            "/tmp/ipython-input-358335590.py:13: DeprecationWarning: The argument `eager_execution` for `SQLContext.__init__` is deprecated. It has been renamed to `eager`.\n",
            "  ctx = pl.SQLContext(\n"
          ]
        }
      ],
      "source": [
        "# Setup - Run this cell first\n",
        "import polars as pl\n",
        "\n",
        "from google.colab import files\n",
        "uploaded = files.upload()\n",
        "\n",
        "for filename in uploaded.keys():\n",
        "    print(f\"Uploaded: {filename}\")\n",
        "\n",
        "airlines = pl.read_csv(\"nyc_airlines.csv\")\n",
        "airports = pl.read_csv(\"nyc_airports.csv\")\n",
        "\n",
        "ctx = pl.SQLContext(\n",
        "    airlines=airlines,\n",
        "    airports=airports,\n",
        "    eager_execution=True\n",
        ")\n",
        "\n",
        "print(\"Setup complete! Tables available:\")\n",
        "print(ctx.execute(\"SHOW TABLES\"))"
      ]
    },
    {
      "cell_type": "markdown",
      "metadata": {
        "id": "5KgxjJEOxB26"
      },
      "source": [
        "## Exercise 1: Basic Queries\n",
        "\n",
        "### 1.1 Find all unique carriers in the airlines table"
      ]
    },
    {
      "cell_type": "code",
      "execution_count": 25,
      "metadata": {
        "colab": {
          "base_uri": "https://localhost:8080/",
          "height": 443
        },
        "id": "w_Ed1X-QxB26",
        "outputId": "deeea837-10d4-45c2-9b83-a6a452fb1574"
      },
      "outputs": [
        {
          "output_type": "execute_result",
          "data": {
            "text/plain": [
              "shape: (16, 1)\n",
              "┌─────────┐\n",
              "│ carrier │\n",
              "│ ---     │\n",
              "│ str     │\n",
              "╞═════════╡\n",
              "│ 9E      │\n",
              "│ AA      │\n",
              "│ AS      │\n",
              "│ B6      │\n",
              "│ DL      │\n",
              "│ …       │\n",
              "│ UA      │\n",
              "│ US      │\n",
              "│ VX      │\n",
              "│ WN      │\n",
              "│ YV      │\n",
              "└─────────┘"
            ],
            "text/html": [
              "<div><style>\n",
              ".dataframe > thead > tr,\n",
              ".dataframe > tbody > tr {\n",
              "  text-align: right;\n",
              "  white-space: pre-wrap;\n",
              "}\n",
              "</style>\n",
              "<small>shape: (16, 1)</small><table border=\"1\" class=\"dataframe\"><thead><tr><th>carrier</th></tr><tr><td>str</td></tr></thead><tbody><tr><td>&quot;9E&quot;</td></tr><tr><td>&quot;AA&quot;</td></tr><tr><td>&quot;AS&quot;</td></tr><tr><td>&quot;B6&quot;</td></tr><tr><td>&quot;DL&quot;</td></tr><tr><td>&hellip;</td></tr><tr><td>&quot;UA&quot;</td></tr><tr><td>&quot;US&quot;</td></tr><tr><td>&quot;VX&quot;</td></tr><tr><td>&quot;WN&quot;</td></tr><tr><td>&quot;YV&quot;</td></tr></tbody></table></div>"
            ]
          },
          "metadata": {},
          "execution_count": 25
        }
      ],
      "source": [
        "# Write your SQL query here\n",
        "\n",
        "result = ctx.execute(\"\"\"\n",
        "  SELECT DISTINCT carrier\n",
        "  FROM airlines\n",
        "\"\"\")\n",
        "\n",
        "result"
      ]
    },
    {
      "cell_type": "markdown",
      "metadata": {
        "id": "WH8ACVuHxB27"
      },
      "source": [
        "### 1.2 Find the top 10 destinations by number of flights"
      ]
    },
    {
      "cell_type": "code",
      "execution_count": 29,
      "metadata": {
        "colab": {
          "base_uri": "https://localhost:8080/",
          "height": 502
        },
        "id": "9hPgtXNIxB27",
        "outputId": "1473c9d6-3f22-4395-bd8b-7c70834fe781"
      },
      "outputs": [
        {
          "output_type": "display_data",
          "data": {
            "text/plain": [
              "<IPython.core.display.HTML object>"
            ],
            "text/html": [
              "\n",
              "     <input type=\"file\" id=\"files-dc1a4844-dea6-4bb4-a71d-6bab837661d5\" name=\"files[]\" multiple disabled\n",
              "        style=\"border:none\" />\n",
              "     <output id=\"result-dc1a4844-dea6-4bb4-a71d-6bab837661d5\">\n",
              "      Upload widget is only available when the cell has been executed in the\n",
              "      current browser session. Please rerun this cell to enable.\n",
              "      </output>\n",
              "      <script>// Copyright 2017 Google LLC\n",
              "//\n",
              "// Licensed under the Apache License, Version 2.0 (the \"License\");\n",
              "// you may not use this file except in compliance with the License.\n",
              "// You may obtain a copy of the License at\n",
              "//\n",
              "//      http://www.apache.org/licenses/LICENSE-2.0\n",
              "//\n",
              "// Unless required by applicable law or agreed to in writing, software\n",
              "// distributed under the License is distributed on an \"AS IS\" BASIS,\n",
              "// WITHOUT WARRANTIES OR CONDITIONS OF ANY KIND, either express or implied.\n",
              "// See the License for the specific language governing permissions and\n",
              "// limitations under the License.\n",
              "\n",
              "/**\n",
              " * @fileoverview Helpers for google.colab Python module.\n",
              " */\n",
              "(function(scope) {\n",
              "function span(text, styleAttributes = {}) {\n",
              "  const element = document.createElement('span');\n",
              "  element.textContent = text;\n",
              "  for (const key of Object.keys(styleAttributes)) {\n",
              "    element.style[key] = styleAttributes[key];\n",
              "  }\n",
              "  return element;\n",
              "}\n",
              "\n",
              "// Max number of bytes which will be uploaded at a time.\n",
              "const MAX_PAYLOAD_SIZE = 100 * 1024;\n",
              "\n",
              "function _uploadFiles(inputId, outputId) {\n",
              "  const steps = uploadFilesStep(inputId, outputId);\n",
              "  const outputElement = document.getElementById(outputId);\n",
              "  // Cache steps on the outputElement to make it available for the next call\n",
              "  // to uploadFilesContinue from Python.\n",
              "  outputElement.steps = steps;\n",
              "\n",
              "  return _uploadFilesContinue(outputId);\n",
              "}\n",
              "\n",
              "// This is roughly an async generator (not supported in the browser yet),\n",
              "// where there are multiple asynchronous steps and the Python side is going\n",
              "// to poll for completion of each step.\n",
              "// This uses a Promise to block the python side on completion of each step,\n",
              "// then passes the result of the previous step as the input to the next step.\n",
              "function _uploadFilesContinue(outputId) {\n",
              "  const outputElement = document.getElementById(outputId);\n",
              "  const steps = outputElement.steps;\n",
              "\n",
              "  const next = steps.next(outputElement.lastPromiseValue);\n",
              "  return Promise.resolve(next.value.promise).then((value) => {\n",
              "    // Cache the last promise value to make it available to the next\n",
              "    // step of the generator.\n",
              "    outputElement.lastPromiseValue = value;\n",
              "    return next.value.response;\n",
              "  });\n",
              "}\n",
              "\n",
              "/**\n",
              " * Generator function which is called between each async step of the upload\n",
              " * process.\n",
              " * @param {string} inputId Element ID of the input file picker element.\n",
              " * @param {string} outputId Element ID of the output display.\n",
              " * @return {!Iterable<!Object>} Iterable of next steps.\n",
              " */\n",
              "function* uploadFilesStep(inputId, outputId) {\n",
              "  const inputElement = document.getElementById(inputId);\n",
              "  inputElement.disabled = false;\n",
              "\n",
              "  const outputElement = document.getElementById(outputId);\n",
              "  outputElement.innerHTML = '';\n",
              "\n",
              "  const pickedPromise = new Promise((resolve) => {\n",
              "    inputElement.addEventListener('change', (e) => {\n",
              "      resolve(e.target.files);\n",
              "    });\n",
              "  });\n",
              "\n",
              "  const cancel = document.createElement('button');\n",
              "  inputElement.parentElement.appendChild(cancel);\n",
              "  cancel.textContent = 'Cancel upload';\n",
              "  const cancelPromise = new Promise((resolve) => {\n",
              "    cancel.onclick = () => {\n",
              "      resolve(null);\n",
              "    };\n",
              "  });\n",
              "\n",
              "  // Wait for the user to pick the files.\n",
              "  const files = yield {\n",
              "    promise: Promise.race([pickedPromise, cancelPromise]),\n",
              "    response: {\n",
              "      action: 'starting',\n",
              "    }\n",
              "  };\n",
              "\n",
              "  cancel.remove();\n",
              "\n",
              "  // Disable the input element since further picks are not allowed.\n",
              "  inputElement.disabled = true;\n",
              "\n",
              "  if (!files) {\n",
              "    return {\n",
              "      response: {\n",
              "        action: 'complete',\n",
              "      }\n",
              "    };\n",
              "  }\n",
              "\n",
              "  for (const file of files) {\n",
              "    const li = document.createElement('li');\n",
              "    li.append(span(file.name, {fontWeight: 'bold'}));\n",
              "    li.append(span(\n",
              "        `(${file.type || 'n/a'}) - ${file.size} bytes, ` +\n",
              "        `last modified: ${\n",
              "            file.lastModifiedDate ? file.lastModifiedDate.toLocaleDateString() :\n",
              "                                    'n/a'} - `));\n",
              "    const percent = span('0% done');\n",
              "    li.appendChild(percent);\n",
              "\n",
              "    outputElement.appendChild(li);\n",
              "\n",
              "    const fileDataPromise = new Promise((resolve) => {\n",
              "      const reader = new FileReader();\n",
              "      reader.onload = (e) => {\n",
              "        resolve(e.target.result);\n",
              "      };\n",
              "      reader.readAsArrayBuffer(file);\n",
              "    });\n",
              "    // Wait for the data to be ready.\n",
              "    let fileData = yield {\n",
              "      promise: fileDataPromise,\n",
              "      response: {\n",
              "        action: 'continue',\n",
              "      }\n",
              "    };\n",
              "\n",
              "    // Use a chunked sending to avoid message size limits. See b/62115660.\n",
              "    let position = 0;\n",
              "    do {\n",
              "      const length = Math.min(fileData.byteLength - position, MAX_PAYLOAD_SIZE);\n",
              "      const chunk = new Uint8Array(fileData, position, length);\n",
              "      position += length;\n",
              "\n",
              "      const base64 = btoa(String.fromCharCode.apply(null, chunk));\n",
              "      yield {\n",
              "        response: {\n",
              "          action: 'append',\n",
              "          file: file.name,\n",
              "          data: base64,\n",
              "        },\n",
              "      };\n",
              "\n",
              "      let percentDone = fileData.byteLength === 0 ?\n",
              "          100 :\n",
              "          Math.round((position / fileData.byteLength) * 100);\n",
              "      percent.textContent = `${percentDone}% done`;\n",
              "\n",
              "    } while (position < fileData.byteLength);\n",
              "  }\n",
              "\n",
              "  // All done.\n",
              "  yield {\n",
              "    response: {\n",
              "      action: 'complete',\n",
              "    }\n",
              "  };\n",
              "}\n",
              "\n",
              "scope.google = scope.google || {};\n",
              "scope.google.colab = scope.google.colab || {};\n",
              "scope.google.colab._files = {\n",
              "  _uploadFiles,\n",
              "  _uploadFilesContinue,\n",
              "};\n",
              "})(self);\n",
              "</script> "
            ]
          },
          "metadata": {}
        },
        {
          "output_type": "stream",
          "name": "stdout",
          "text": [
            "Saving nyc_flights.csv to nyc_flights (3).csv\n"
          ]
        },
        {
          "output_type": "stream",
          "name": "stderr",
          "text": [
            "/tmp/ipython-input-2943794029.py:6: DeprecationWarning: The argument `eager_execution` for `SQLContext.__init__` is deprecated. It has been renamed to `eager`.\n",
            "  ctx = pl.SQLContext(\n"
          ]
        },
        {
          "output_type": "execute_result",
          "data": {
            "text/plain": [
              "shape: (10, 2)\n",
              "┌──────┬─────────────┐\n",
              "│ dest ┆ num_flights │\n",
              "│ ---  ┆ ---         │\n",
              "│ str  ┆ u32         │\n",
              "╞══════╪═════════════╡\n",
              "│ ORD  ┆ 17283       │\n",
              "│ ATL  ┆ 17215       │\n",
              "│ LAX  ┆ 16174       │\n",
              "│ BOS  ┆ 15508       │\n",
              "│ MCO  ┆ 14082       │\n",
              "│ CLT  ┆ 14064       │\n",
              "│ SFO  ┆ 13331       │\n",
              "│ FLL  ┆ 12055       │\n",
              "│ MIA  ┆ 11728       │\n",
              "│ DCA  ┆ 9705        │\n",
              "└──────┴─────────────┘"
            ],
            "text/html": [
              "<div><style>\n",
              ".dataframe > thead > tr,\n",
              ".dataframe > tbody > tr {\n",
              "  text-align: right;\n",
              "  white-space: pre-wrap;\n",
              "}\n",
              "</style>\n",
              "<small>shape: (10, 2)</small><table border=\"1\" class=\"dataframe\"><thead><tr><th>dest</th><th>num_flights</th></tr><tr><td>str</td><td>u32</td></tr></thead><tbody><tr><td>&quot;ORD&quot;</td><td>17283</td></tr><tr><td>&quot;ATL&quot;</td><td>17215</td></tr><tr><td>&quot;LAX&quot;</td><td>16174</td></tr><tr><td>&quot;BOS&quot;</td><td>15508</td></tr><tr><td>&quot;MCO&quot;</td><td>14082</td></tr><tr><td>&quot;CLT&quot;</td><td>14064</td></tr><tr><td>&quot;SFO&quot;</td><td>13331</td></tr><tr><td>&quot;FLL&quot;</td><td>12055</td></tr><tr><td>&quot;MIA&quot;</td><td>11728</td></tr><tr><td>&quot;DCA&quot;</td><td>9705</td></tr></tbody></table></div>"
            ]
          },
          "metadata": {},
          "execution_count": 29
        }
      ],
      "source": [
        "# Write your SQL query here\n",
        "from google.colab import files\n",
        "uploaded = files.upload()\n",
        "flights = pl.read_csv(\"nyc_flights.csv\")\n",
        "\n",
        "ctx = pl.SQLContext(\n",
        "    flights=flights,\n",
        "    eager_execution=True\n",
        ")\n",
        "\n",
        "result = ctx.execute(\"\"\"\n",
        "    SELECT dest, COUNT(*) AS num_flights\n",
        "    FROM flights\n",
        "    GROUP BY dest\n",
        "    ORDER BY num_flights DESC\n",
        "    LIMIT 10\n",
        "\"\"\")\n",
        "\n",
        "# print(result)\n",
        "\n",
        "result"
      ]
    },
    {
      "cell_type": "markdown",
      "metadata": {
        "id": "rHKpM4KaxB27"
      },
      "source": [
        "### 1.3 Find all flights that departed more than 2 hours late (120 minutes)"
      ]
    },
    {
      "cell_type": "code",
      "execution_count": 31,
      "metadata": {
        "colab": {
          "base_uri": "https://localhost:8080/",
          "height": 634
        },
        "id": "ZNW6ZJohxB27",
        "outputId": "84ab0db6-a2e8-4aa3-9353-dbd6d64005d5"
      },
      "outputs": [
        {
          "output_type": "execute_result",
          "data": {
            "text/plain": [
              "shape: (9_723, 19)\n",
              "┌──────┬───────┬─────┬──────────┬───┬──────────┬──────┬────────┬─────────────────────────┐\n",
              "│ year ┆ month ┆ day ┆ dep_time ┆ … ┆ distance ┆ hour ┆ minute ┆ time_hour               │\n",
              "│ ---  ┆ ---   ┆ --- ┆ ---      ┆   ┆ ---      ┆ ---  ┆ ---    ┆ ---                     │\n",
              "│ i64  ┆ i64   ┆ i64 ┆ i64      ┆   ┆ i64      ┆ i64  ┆ i64    ┆ datetime[μs, UTC]       │\n",
              "╞══════╪═══════╪═════╪══════════╪═══╪══════════╪══════╪════════╪═════════════════════════╡\n",
              "│ 2013 ┆ 1     ┆ 1   ┆ 848      ┆ … ┆ 184      ┆ 18   ┆ 35     ┆ 2013-01-01 23:00:00 UTC │\n",
              "│ 2013 ┆ 1     ┆ 1   ┆ 957      ┆ … ┆ 200      ┆ 7    ┆ 33     ┆ 2013-01-01 12:00:00 UTC │\n",
              "│ 2013 ┆ 1     ┆ 1   ┆ 1114     ┆ … ┆ 1416     ┆ 9    ┆ 0      ┆ 2013-01-01 14:00:00 UTC │\n",
              "│ 2013 ┆ 1     ┆ 1   ┆ 1540     ┆ … ┆ 1598     ┆ 13   ┆ 38     ┆ 2013-01-01 18:00:00 UTC │\n",
              "│ 2013 ┆ 1     ┆ 1   ┆ 1815     ┆ … ┆ 1134     ┆ 13   ┆ 25     ┆ 2013-01-01 18:00:00 UTC │\n",
              "│ …    ┆ …     ┆ …   ┆ …        ┆ … ┆ …        ┆ …    ┆ …      ┆ …                       │\n",
              "│ 2013 ┆ 9     ┆ 30  ┆ 1823     ┆ … ┆ 765      ┆ 15   ┆ 45     ┆ 2013-09-30 19:00:00 UTC │\n",
              "│ 2013 ┆ 9     ┆ 30  ┆ 1951     ┆ … ┆ 708      ┆ 16   ┆ 49     ┆ 2013-09-30 20:00:00 UTC │\n",
              "│ 2013 ┆ 9     ┆ 30  ┆ 2053     ┆ … ┆ 746      ┆ 18   ┆ 15     ┆ 2013-09-30 22:00:00 UTC │\n",
              "│ 2013 ┆ 9     ┆ 30  ┆ 2159     ┆ … ┆ 301      ┆ 18   ┆ 45     ┆ 2013-09-30 22:00:00 UTC │\n",
              "│ 2013 ┆ 9     ┆ 30  ┆ 2235     ┆ … ┆ 944      ┆ 20   ┆ 1      ┆ 2013-10-01 00:00:00 UTC │\n",
              "└──────┴───────┴─────┴──────────┴───┴──────────┴──────┴────────┴─────────────────────────┘"
            ],
            "text/html": [
              "<div><style>\n",
              ".dataframe > thead > tr,\n",
              ".dataframe > tbody > tr {\n",
              "  text-align: right;\n",
              "  white-space: pre-wrap;\n",
              "}\n",
              "</style>\n",
              "<small>shape: (9_723, 19)</small><table border=\"1\" class=\"dataframe\"><thead><tr><th>year</th><th>month</th><th>day</th><th>dep_time</th><th>sched_dep_time</th><th>dep_delay</th><th>arr_time</th><th>sched_arr_time</th><th>arr_delay</th><th>carrier</th><th>flight</th><th>tailnum</th><th>origin</th><th>dest</th><th>air_time</th><th>distance</th><th>hour</th><th>minute</th><th>time_hour</th></tr><tr><td>i64</td><td>i64</td><td>i64</td><td>i64</td><td>i64</td><td>i64</td><td>i64</td><td>i64</td><td>i64</td><td>str</td><td>i64</td><td>str</td><td>str</td><td>str</td><td>i64</td><td>i64</td><td>i64</td><td>i64</td><td>datetime[μs, UTC]</td></tr></thead><tbody><tr><td>2013</td><td>1</td><td>1</td><td>848</td><td>1835</td><td>853</td><td>1001</td><td>1950</td><td>851</td><td>&quot;MQ&quot;</td><td>3944</td><td>&quot;N942MQ&quot;</td><td>&quot;JFK&quot;</td><td>&quot;BWI&quot;</td><td>41</td><td>184</td><td>18</td><td>35</td><td>2013-01-01 23:00:00 UTC</td></tr><tr><td>2013</td><td>1</td><td>1</td><td>957</td><td>733</td><td>144</td><td>1056</td><td>853</td><td>123</td><td>&quot;UA&quot;</td><td>856</td><td>&quot;N534UA&quot;</td><td>&quot;EWR&quot;</td><td>&quot;BOS&quot;</td><td>37</td><td>200</td><td>7</td><td>33</td><td>2013-01-01 12:00:00 UTC</td></tr><tr><td>2013</td><td>1</td><td>1</td><td>1114</td><td>900</td><td>134</td><td>1447</td><td>1222</td><td>145</td><td>&quot;UA&quot;</td><td>1086</td><td>&quot;N76502&quot;</td><td>&quot;LGA&quot;</td><td>&quot;IAH&quot;</td><td>248</td><td>1416</td><td>9</td><td>0</td><td>2013-01-01 14:00:00 UTC</td></tr><tr><td>2013</td><td>1</td><td>1</td><td>1540</td><td>1338</td><td>122</td><td>2020</td><td>1825</td><td>115</td><td>&quot;B6&quot;</td><td>705</td><td>&quot;N570JB&quot;</td><td>&quot;JFK&quot;</td><td>&quot;SJU&quot;</td><td>193</td><td>1598</td><td>13</td><td>38</td><td>2013-01-01 18:00:00 UTC</td></tr><tr><td>2013</td><td>1</td><td>1</td><td>1815</td><td>1325</td><td>290</td><td>2120</td><td>1542</td><td>338</td><td>&quot;EV&quot;</td><td>4417</td><td>&quot;N17185&quot;</td><td>&quot;EWR&quot;</td><td>&quot;OMA&quot;</td><td>213</td><td>1134</td><td>13</td><td>25</td><td>2013-01-01 18:00:00 UTC</td></tr><tr><td>&hellip;</td><td>&hellip;</td><td>&hellip;</td><td>&hellip;</td><td>&hellip;</td><td>&hellip;</td><td>&hellip;</td><td>&hellip;</td><td>&hellip;</td><td>&hellip;</td><td>&hellip;</td><td>&hellip;</td><td>&hellip;</td><td>&hellip;</td><td>&hellip;</td><td>&hellip;</td><td>&hellip;</td><td>&hellip;</td><td>&hellip;</td></tr><tr><td>2013</td><td>9</td><td>30</td><td>1823</td><td>1545</td><td>158</td><td>1934</td><td>1733</td><td>121</td><td>&quot;9E&quot;</td><td>3459</td><td>&quot;N916XJ&quot;</td><td>&quot;JFK&quot;</td><td>&quot;BNA&quot;</td><td>95</td><td>765</td><td>15</td><td>45</td><td>2013-09-30 19:00:00 UTC</td></tr><tr><td>2013</td><td>9</td><td>30</td><td>1951</td><td>1649</td><td>182</td><td>2157</td><td>1903</td><td>174</td><td>&quot;EV&quot;</td><td>4294</td><td>&quot;N13988&quot;</td><td>&quot;EWR&quot;</td><td>&quot;SAV&quot;</td><td>95</td><td>708</td><td>16</td><td>49</td><td>2013-09-30 20:00:00 UTC</td></tr><tr><td>2013</td><td>9</td><td>30</td><td>2053</td><td>1815</td><td>158</td><td>2310</td><td>2054</td><td>136</td><td>&quot;EV&quot;</td><td>5292</td><td>&quot;N600QX&quot;</td><td>&quot;EWR&quot;</td><td>&quot;ATL&quot;</td><td>91</td><td>746</td><td>18</td><td>15</td><td>2013-09-30 22:00:00 UTC</td></tr><tr><td>2013</td><td>9</td><td>30</td><td>2159</td><td>1845</td><td>194</td><td>2344</td><td>2030</td><td>194</td><td>&quot;9E&quot;</td><td>3320</td><td>&quot;N906XJ&quot;</td><td>&quot;JFK&quot;</td><td>&quot;BUF&quot;</td><td>50</td><td>301</td><td>18</td><td>45</td><td>2013-09-30 22:00:00 UTC</td></tr><tr><td>2013</td><td>9</td><td>30</td><td>2235</td><td>2001</td><td>154</td><td>59</td><td>2249</td><td>130</td><td>&quot;B6&quot;</td><td>1083</td><td>&quot;N804JB&quot;</td><td>&quot;JFK&quot;</td><td>&quot;MCO&quot;</td><td>123</td><td>944</td><td>20</td><td>1</td><td>2013-10-01 00:00:00 UTC</td></tr></tbody></table></div>"
            ]
          },
          "metadata": {},
          "execution_count": 31
        }
      ],
      "source": [
        "# Write your SQL query here\n",
        "result = ctx.execute(\"\"\"\n",
        "SELECT *\n",
        "    FROM flights\n",
        "    WHERE dep_delay > 120\n",
        "\"\"\")\n",
        "result"
      ]
    },
    {
      "cell_type": "markdown",
      "metadata": {
        "id": "ttDEPUXExB28"
      },
      "source": [
        "## Exercise 2: Aggregation\n",
        "\n",
        "### 2.1 Calculate the average departure delay for each origin airport"
      ]
    },
    {
      "cell_type": "code",
      "execution_count": 33,
      "metadata": {
        "colab": {
          "base_uri": "https://localhost:8080/",
          "height": 192
        },
        "id": "fUe8qRb-xB28",
        "outputId": "b486a6e3-dc70-47af-a10d-c7ae6b1f7d26"
      },
      "outputs": [
        {
          "output_type": "execute_result",
          "data": {
            "text/plain": [
              "shape: (3, 2)\n",
              "┌────────┬───────────────┐\n",
              "│ origin ┆ avg_dep_delay │\n",
              "│ ---    ┆ ---           │\n",
              "│ str    ┆ f64           │\n",
              "╞════════╪═══════════════╡\n",
              "│ JFK    ┆ 12.112159     │\n",
              "│ EWR    ┆ 15.107954     │\n",
              "│ LGA    ┆ 10.346876     │\n",
              "└────────┴───────────────┘"
            ],
            "text/html": [
              "<div><style>\n",
              ".dataframe > thead > tr,\n",
              ".dataframe > tbody > tr {\n",
              "  text-align: right;\n",
              "  white-space: pre-wrap;\n",
              "}\n",
              "</style>\n",
              "<small>shape: (3, 2)</small><table border=\"1\" class=\"dataframe\"><thead><tr><th>origin</th><th>avg_dep_delay</th></tr><tr><td>str</td><td>f64</td></tr></thead><tbody><tr><td>&quot;JFK&quot;</td><td>12.112159</td></tr><tr><td>&quot;EWR&quot;</td><td>15.107954</td></tr><tr><td>&quot;LGA&quot;</td><td>10.346876</td></tr></tbody></table></div>"
            ]
          },
          "metadata": {},
          "execution_count": 33
        }
      ],
      "source": [
        "# Write your SQL query here\n",
        "result = ctx.execute(\"\"\"\n",
        " SELECT origin,\n",
        "           AVG(dep_delay) AS avg_dep_delay\n",
        "    FROM flights\n",
        "    GROUP BY origin\n",
        "\"\"\")\n",
        "\n",
        "result"
      ]
    },
    {
      "cell_type": "markdown",
      "metadata": {
        "id": "bzDhYJQGxB28"
      },
      "source": [
        "### 2.2 Find the busiest month of the year\n",
        "\n",
        "Count the number of flights per month and find which month has the most flights."
      ]
    },
    {
      "cell_type": "code",
      "execution_count": 34,
      "metadata": {
        "colab": {
          "base_uri": "https://localhost:8080/",
          "height": 129
        },
        "id": "D5TqSnBdxB29",
        "outputId": "f6ba7287-5faa-4172-ee36-f56efc055304"
      },
      "outputs": [
        {
          "output_type": "execute_result",
          "data": {
            "text/plain": [
              "shape: (1, 2)\n",
              "┌───────┬─────────────┐\n",
              "│ month ┆ num_flights │\n",
              "│ ---   ┆ ---         │\n",
              "│ i64   ┆ u32         │\n",
              "╞═══════╪═════════════╡\n",
              "│ 7     ┆ 29425       │\n",
              "└───────┴─────────────┘"
            ],
            "text/html": [
              "<div><style>\n",
              ".dataframe > thead > tr,\n",
              ".dataframe > tbody > tr {\n",
              "  text-align: right;\n",
              "  white-space: pre-wrap;\n",
              "}\n",
              "</style>\n",
              "<small>shape: (1, 2)</small><table border=\"1\" class=\"dataframe\"><thead><tr><th>month</th><th>num_flights</th></tr><tr><td>i64</td><td>u32</td></tr></thead><tbody><tr><td>7</td><td>29425</td></tr></tbody></table></div>"
            ]
          },
          "metadata": {},
          "execution_count": 34
        }
      ],
      "source": [
        "# First, let's check what columns are available\n",
        "result = ctx.execute(\"\"\"\n",
        "   SELECT *\n",
        "    FROM flights\n",
        "    LIMIT 5\n",
        "\"\"\")\n",
        "result\n",
        "\n",
        "# Now write your query to find busiest month\n",
        "result = ctx.execute(\"\"\"\n",
        " SELECT month,\n",
        "           COUNT(*) AS num_flights\n",
        "    FROM flights\n",
        "    GROUP BY month\n",
        "    ORDER BY num_flights DESC\n",
        "    LIMIT 1\n",
        "\"\"\")\n",
        "\n",
        "result"
      ]
    },
    {
      "cell_type": "markdown",
      "metadata": {
        "id": "8STd8K9_xB29"
      },
      "source": [
        "### 2.3 Calculate the on-time performance rate for each carrier\n",
        "\n",
        "Consider a flight on-time if the departure delay is <= 15 minutes."
      ]
    },
    {
      "cell_type": "code",
      "execution_count": 36,
      "metadata": {
        "colab": {
          "base_uri": "https://localhost:8080/",
          "height": 443
        },
        "id": "tD9KVyTMxB29",
        "outputId": "05ae34c6-02a4-4b1a-99c2-267df5841efb"
      },
      "outputs": [
        {
          "output_type": "execute_result",
          "data": {
            "text/plain": [
              "shape: (16, 2)\n",
              "┌─────────┬──────────────┐\n",
              "│ carrier ┆ on_time_rate │\n",
              "│ ---     ┆ ---          │\n",
              "│ str     ┆ f64          │\n",
              "╞═════════╪══════════════╡\n",
              "│ HA      ┆ 0.929825     │\n",
              "│ AS      ┆ 0.865546     │\n",
              "│ US      ┆ 0.849873     │\n",
              "│ DL      ┆ 0.830742     │\n",
              "│ AA      ┆ 0.824376     │\n",
              "│ …       ┆ …            │\n",
              "│ FL      ┆ 0.716871     │\n",
              "│ F9      ┆ 0.715328     │\n",
              "│ 9E      ┆ 0.701246     │\n",
              "│ EV      ┆ 0.659221     │\n",
              "│ YV      ┆ 0.647255     │\n",
              "└─────────┴──────────────┘"
            ],
            "text/html": [
              "<div><style>\n",
              ".dataframe > thead > tr,\n",
              ".dataframe > tbody > tr {\n",
              "  text-align: right;\n",
              "  white-space: pre-wrap;\n",
              "}\n",
              "</style>\n",
              "<small>shape: (16, 2)</small><table border=\"1\" class=\"dataframe\"><thead><tr><th>carrier</th><th>on_time_rate</th></tr><tr><td>str</td><td>f64</td></tr></thead><tbody><tr><td>&quot;HA&quot;</td><td>0.929825</td></tr><tr><td>&quot;AS&quot;</td><td>0.865546</td></tr><tr><td>&quot;US&quot;</td><td>0.849873</td></tr><tr><td>&quot;DL&quot;</td><td>0.830742</td></tr><tr><td>&quot;AA&quot;</td><td>0.824376</td></tr><tr><td>&hellip;</td><td>&hellip;</td></tr><tr><td>&quot;FL&quot;</td><td>0.716871</td></tr><tr><td>&quot;F9&quot;</td><td>0.715328</td></tr><tr><td>&quot;9E&quot;</td><td>0.701246</td></tr><tr><td>&quot;EV&quot;</td><td>0.659221</td></tr><tr><td>&quot;YV&quot;</td><td>0.647255</td></tr></tbody></table></div>"
            ]
          },
          "metadata": {},
          "execution_count": 36
        }
      ],
      "source": [
        "# Write your SQL query here\n",
        "result = ctx.execute(\"\"\"\n",
        "SELECT carrier,\n",
        "           SUM(CASE WHEN dep_delay <= 15 THEN 1 ELSE 0 END) * 1.0 / COUNT(*)\n",
        "             AS on_time_rate\n",
        "    FROM flights\n",
        "    GROUP BY carrier\n",
        "    ORDER BY on_time_rate DESC\n",
        "\"\"\")\n",
        "\n",
        "result"
      ]
    },
    {
      "cell_type": "markdown",
      "metadata": {
        "id": "yAflN8BoxB29"
      },
      "source": [
        "## Exercise 3: Joins\n",
        "\n",
        "### 3.1 List all flights with their airline names (not just carrier codes)\n",
        "\n",
        "Show the first 20 flights with carrier code, airline name, flight number, origin, and destination."
      ]
    },
    {
      "cell_type": "code",
      "execution_count": 41,
      "metadata": {
        "colab": {
          "base_uri": "https://localhost:8080/",
          "height": 455
        },
        "id": "ttVojCxZxB29",
        "outputId": "7e196781-d4c2-458f-97fe-aef09755954a"
      },
      "outputs": [
        {
          "output_type": "display_data",
          "data": {
            "text/plain": [
              "<IPython.core.display.HTML object>"
            ],
            "text/html": [
              "\n",
              "     <input type=\"file\" id=\"files-8e95c21d-c046-4a94-92b9-25250d00ec57\" name=\"files[]\" multiple disabled\n",
              "        style=\"border:none\" />\n",
              "     <output id=\"result-8e95c21d-c046-4a94-92b9-25250d00ec57\">\n",
              "      Upload widget is only available when the cell has been executed in the\n",
              "      current browser session. Please rerun this cell to enable.\n",
              "      </output>\n",
              "      <script>// Copyright 2017 Google LLC\n",
              "//\n",
              "// Licensed under the Apache License, Version 2.0 (the \"License\");\n",
              "// you may not use this file except in compliance with the License.\n",
              "// You may obtain a copy of the License at\n",
              "//\n",
              "//      http://www.apache.org/licenses/LICENSE-2.0\n",
              "//\n",
              "// Unless required by applicable law or agreed to in writing, software\n",
              "// distributed under the License is distributed on an \"AS IS\" BASIS,\n",
              "// WITHOUT WARRANTIES OR CONDITIONS OF ANY KIND, either express or implied.\n",
              "// See the License for the specific language governing permissions and\n",
              "// limitations under the License.\n",
              "\n",
              "/**\n",
              " * @fileoverview Helpers for google.colab Python module.\n",
              " */\n",
              "(function(scope) {\n",
              "function span(text, styleAttributes = {}) {\n",
              "  const element = document.createElement('span');\n",
              "  element.textContent = text;\n",
              "  for (const key of Object.keys(styleAttributes)) {\n",
              "    element.style[key] = styleAttributes[key];\n",
              "  }\n",
              "  return element;\n",
              "}\n",
              "\n",
              "// Max number of bytes which will be uploaded at a time.\n",
              "const MAX_PAYLOAD_SIZE = 100 * 1024;\n",
              "\n",
              "function _uploadFiles(inputId, outputId) {\n",
              "  const steps = uploadFilesStep(inputId, outputId);\n",
              "  const outputElement = document.getElementById(outputId);\n",
              "  // Cache steps on the outputElement to make it available for the next call\n",
              "  // to uploadFilesContinue from Python.\n",
              "  outputElement.steps = steps;\n",
              "\n",
              "  return _uploadFilesContinue(outputId);\n",
              "}\n",
              "\n",
              "// This is roughly an async generator (not supported in the browser yet),\n",
              "// where there are multiple asynchronous steps and the Python side is going\n",
              "// to poll for completion of each step.\n",
              "// This uses a Promise to block the python side on completion of each step,\n",
              "// then passes the result of the previous step as the input to the next step.\n",
              "function _uploadFilesContinue(outputId) {\n",
              "  const outputElement = document.getElementById(outputId);\n",
              "  const steps = outputElement.steps;\n",
              "\n",
              "  const next = steps.next(outputElement.lastPromiseValue);\n",
              "  return Promise.resolve(next.value.promise).then((value) => {\n",
              "    // Cache the last promise value to make it available to the next\n",
              "    // step of the generator.\n",
              "    outputElement.lastPromiseValue = value;\n",
              "    return next.value.response;\n",
              "  });\n",
              "}\n",
              "\n",
              "/**\n",
              " * Generator function which is called between each async step of the upload\n",
              " * process.\n",
              " * @param {string} inputId Element ID of the input file picker element.\n",
              " * @param {string} outputId Element ID of the output display.\n",
              " * @return {!Iterable<!Object>} Iterable of next steps.\n",
              " */\n",
              "function* uploadFilesStep(inputId, outputId) {\n",
              "  const inputElement = document.getElementById(inputId);\n",
              "  inputElement.disabled = false;\n",
              "\n",
              "  const outputElement = document.getElementById(outputId);\n",
              "  outputElement.innerHTML = '';\n",
              "\n",
              "  const pickedPromise = new Promise((resolve) => {\n",
              "    inputElement.addEventListener('change', (e) => {\n",
              "      resolve(e.target.files);\n",
              "    });\n",
              "  });\n",
              "\n",
              "  const cancel = document.createElement('button');\n",
              "  inputElement.parentElement.appendChild(cancel);\n",
              "  cancel.textContent = 'Cancel upload';\n",
              "  const cancelPromise = new Promise((resolve) => {\n",
              "    cancel.onclick = () => {\n",
              "      resolve(null);\n",
              "    };\n",
              "  });\n",
              "\n",
              "  // Wait for the user to pick the files.\n",
              "  const files = yield {\n",
              "    promise: Promise.race([pickedPromise, cancelPromise]),\n",
              "    response: {\n",
              "      action: 'starting',\n",
              "    }\n",
              "  };\n",
              "\n",
              "  cancel.remove();\n",
              "\n",
              "  // Disable the input element since further picks are not allowed.\n",
              "  inputElement.disabled = true;\n",
              "\n",
              "  if (!files) {\n",
              "    return {\n",
              "      response: {\n",
              "        action: 'complete',\n",
              "      }\n",
              "    };\n",
              "  }\n",
              "\n",
              "  for (const file of files) {\n",
              "    const li = document.createElement('li');\n",
              "    li.append(span(file.name, {fontWeight: 'bold'}));\n",
              "    li.append(span(\n",
              "        `(${file.type || 'n/a'}) - ${file.size} bytes, ` +\n",
              "        `last modified: ${\n",
              "            file.lastModifiedDate ? file.lastModifiedDate.toLocaleDateString() :\n",
              "                                    'n/a'} - `));\n",
              "    const percent = span('0% done');\n",
              "    li.appendChild(percent);\n",
              "\n",
              "    outputElement.appendChild(li);\n",
              "\n",
              "    const fileDataPromise = new Promise((resolve) => {\n",
              "      const reader = new FileReader();\n",
              "      reader.onload = (e) => {\n",
              "        resolve(e.target.result);\n",
              "      };\n",
              "      reader.readAsArrayBuffer(file);\n",
              "    });\n",
              "    // Wait for the data to be ready.\n",
              "    let fileData = yield {\n",
              "      promise: fileDataPromise,\n",
              "      response: {\n",
              "        action: 'continue',\n",
              "      }\n",
              "    };\n",
              "\n",
              "    // Use a chunked sending to avoid message size limits. See b/62115660.\n",
              "    let position = 0;\n",
              "    do {\n",
              "      const length = Math.min(fileData.byteLength - position, MAX_PAYLOAD_SIZE);\n",
              "      const chunk = new Uint8Array(fileData, position, length);\n",
              "      position += length;\n",
              "\n",
              "      const base64 = btoa(String.fromCharCode.apply(null, chunk));\n",
              "      yield {\n",
              "        response: {\n",
              "          action: 'append',\n",
              "          file: file.name,\n",
              "          data: base64,\n",
              "        },\n",
              "      };\n",
              "\n",
              "      let percentDone = fileData.byteLength === 0 ?\n",
              "          100 :\n",
              "          Math.round((position / fileData.byteLength) * 100);\n",
              "      percent.textContent = `${percentDone}% done`;\n",
              "\n",
              "    } while (position < fileData.byteLength);\n",
              "  }\n",
              "\n",
              "  // All done.\n",
              "  yield {\n",
              "    response: {\n",
              "      action: 'complete',\n",
              "    }\n",
              "  };\n",
              "}\n",
              "\n",
              "scope.google = scope.google || {};\n",
              "scope.google.colab = scope.google.colab || {};\n",
              "scope.google.colab._files = {\n",
              "  _uploadFiles,\n",
              "  _uploadFilesContinue,\n",
              "};\n",
              "})(self);\n",
              "</script> "
            ]
          },
          "metadata": {}
        },
        {
          "output_type": "stream",
          "name": "stdout",
          "text": [
            "Saving nyc_airlines.csv to nyc_airlines (5).csv\n",
            "Saving nyc_airports.csv to nyc_airports (5).csv\n",
            "Saving nyc_flights.csv to nyc_flights (6).csv\n",
            "Saving nyc_planes.csv to nyc_planes (3).csv\n",
            "Saving nyc_weather.csv to nyc_weather (3).csv\n",
            "shape: (5, 1)\n",
            "┌──────────┐\n",
            "│ name     │\n",
            "│ ---      │\n",
            "│ str      │\n",
            "╞══════════╡\n",
            "│ airlines │\n",
            "│ airports │\n",
            "│ flights  │\n",
            "│ planes   │\n",
            "│ weather  │\n",
            "└──────────┘\n"
          ]
        },
        {
          "output_type": "stream",
          "name": "stderr",
          "text": [
            "/tmp/ipython-input-3383626149.py:55: DeprecationWarning: The argument `eager_execution` for `SQLContext.__init__` is deprecated. It has been renamed to `eager`.\n",
            "  ctx = pl.SQLContext(\n"
          ]
        }
      ],
      "source": [
        "# Write your SQL query here\n",
        "import polars as pl\n",
        "from google.colab import files\n",
        "uploaded = files.upload()\n",
        "\n",
        "# Treat these as nulls, and look farther into the file to infer schema\n",
        "READ_OPTS = dict(null_values=[\"NA\", \"\"], infer_schema_length=10000)\n",
        "\n",
        "# Simple tables\n",
        "airlines = pl.read_csv(\"nyc_airlines.csv\", **READ_OPTS)\n",
        "flights = pl.read_csv(\"nyc_flights.csv\", **READ_OPTS)\n",
        "airports = pl.read_csv(\"nyc_airports.csv\", **READ_OPTS)\n",
        "planes   = pl.read_csv(\"nyc_planes.csv\",   **READ_OPTS)\n",
        "weather  = pl.read_csv(\"nyc_weather.csv\",  **READ_OPTS)\n",
        "\n",
        "# Flights: force numeric columns to nullable Int64/Float64\n",
        "flights = pl.read_csv(\n",
        "    \"nyc_flights.csv\",\n",
        "    **READ_OPTS,\n",
        "    schema_overrides={\n",
        "        \"year\": pl.Int64,\n",
        "        \"month\": pl.Int64,\n",
        "        \"day\": pl.Int64,\n",
        "        \"dep_delay\": pl.Int64,\n",
        "        \"arr_delay\": pl.Int64,\n",
        "        \"air_time\": pl.Int64,\n",
        "        \"distance\": pl.Int64,\n",
        "        \"hour\": pl.Int64,\n",
        "        \"minute\": pl.Int64,\n",
        "    },\n",
        ")\n",
        "\n",
        "# Weather: many float columns can contain NA text\n",
        "weather = pl.read_csv(\n",
        "    \"nyc_weather.csv\",\n",
        "    **READ_OPTS,\n",
        "    schema_overrides={\n",
        "        \"temp\": pl.Float64,\n",
        "        \"dewp\": pl.Float64,\n",
        "        \"humid\": pl.Float64,\n",
        "        \"wind_dir\": pl.Float64,\n",
        "        \"wind_speed\": pl.Float64,\n",
        "        \"wind_gust\": pl.Float64,\n",
        "        \"precip\": pl.Float64,\n",
        "        \"pressure\": pl.Float64,\n",
        "        \"visib\": pl.Float64,\n",
        "    },\n",
        ")\n",
        "\n",
        "# Parse datetimes (be tolerant of nulls/odd rows)\n",
        "flights = flights.with_columns(pl.col(\"time_hour\").str.strptime(pl.Datetime, strict=False))\n",
        "weather = weather.with_columns(pl.col(\"time_hour\").str.strptime(pl.Datetime, strict=False))\n",
        "\n",
        "# Build SQL context\n",
        "ctx = pl.SQLContext(\n",
        "    airlines=airlines,\n",
        "    airports=airports,\n",
        "    flights=flights,\n",
        "    planes=planes,\n",
        "    weather=weather,\n",
        "    eager_execution=True\n",
        ")\n",
        "\n",
        "print(ctx.execute(\"SHOW TABLES\"))\n",
        "\n",
        "\n"
      ]
    },
    {
      "cell_type": "code",
      "source": [
        "result = ctx.execute(\"\"\"\n",
        "    SELECT\n",
        "        f.carrier,\n",
        "        a.name AS airline_name,\n",
        "        f.flight,\n",
        "        f.origin,\n",
        "        f.dest\n",
        "    FROM flights f\n",
        "    LEFT JOIN airlines a\n",
        "      ON f.carrier = a.carrier\n",
        "    LIMIT 20\n",
        "\"\"\")\n",
        "\n",
        "result"
      ],
      "metadata": {
        "colab": {
          "base_uri": "https://localhost:8080/",
          "height": 443
        },
        "id": "pfikJS2aTbhn",
        "outputId": "4315f801-a15c-4f35-89f0-6571ed399c6f"
      },
      "execution_count": 42,
      "outputs": [
        {
          "output_type": "execute_result",
          "data": {
            "text/plain": [
              "shape: (20, 5)\n",
              "┌─────────┬────────────────────────┬────────┬────────┬──────┐\n",
              "│ carrier ┆ airline_name           ┆ flight ┆ origin ┆ dest │\n",
              "│ ---     ┆ ---                    ┆ ---    ┆ ---    ┆ ---  │\n",
              "│ str     ┆ str                    ┆ i64    ┆ str    ┆ str  │\n",
              "╞═════════╪════════════════════════╪════════╪════════╪══════╡\n",
              "│ UA      ┆ United Air Lines Inc.  ┆ 1545   ┆ EWR    ┆ IAH  │\n",
              "│ UA      ┆ United Air Lines Inc.  ┆ 1714   ┆ LGA    ┆ IAH  │\n",
              "│ AA      ┆ American Airlines Inc. ┆ 1141   ┆ JFK    ┆ MIA  │\n",
              "│ B6      ┆ JetBlue Airways        ┆ 725    ┆ JFK    ┆ BQN  │\n",
              "│ DL      ┆ Delta Air Lines Inc.   ┆ 461    ┆ LGA    ┆ ATL  │\n",
              "│ …       ┆ …                      ┆ …      ┆ …      ┆ …    │\n",
              "│ B6      ┆ JetBlue Airways        ┆ 1806   ┆ JFK    ┆ BOS  │\n",
              "│ UA      ┆ United Air Lines Inc.  ┆ 1187   ┆ EWR    ┆ LAS  │\n",
              "│ B6      ┆ JetBlue Airways        ┆ 371    ┆ LGA    ┆ FLL  │\n",
              "│ MQ      ┆ Envoy Air              ┆ 4650   ┆ LGA    ┆ ATL  │\n",
              "│ B6      ┆ JetBlue Airways        ┆ 343    ┆ EWR    ┆ PBI  │\n",
              "└─────────┴────────────────────────┴────────┴────────┴──────┘"
            ],
            "text/html": [
              "<div><style>\n",
              ".dataframe > thead > tr,\n",
              ".dataframe > tbody > tr {\n",
              "  text-align: right;\n",
              "  white-space: pre-wrap;\n",
              "}\n",
              "</style>\n",
              "<small>shape: (20, 5)</small><table border=\"1\" class=\"dataframe\"><thead><tr><th>carrier</th><th>airline_name</th><th>flight</th><th>origin</th><th>dest</th></tr><tr><td>str</td><td>str</td><td>i64</td><td>str</td><td>str</td></tr></thead><tbody><tr><td>&quot;UA&quot;</td><td>&quot;United Air Lines Inc.&quot;</td><td>1545</td><td>&quot;EWR&quot;</td><td>&quot;IAH&quot;</td></tr><tr><td>&quot;UA&quot;</td><td>&quot;United Air Lines Inc.&quot;</td><td>1714</td><td>&quot;LGA&quot;</td><td>&quot;IAH&quot;</td></tr><tr><td>&quot;AA&quot;</td><td>&quot;American Airlines Inc.&quot;</td><td>1141</td><td>&quot;JFK&quot;</td><td>&quot;MIA&quot;</td></tr><tr><td>&quot;B6&quot;</td><td>&quot;JetBlue Airways&quot;</td><td>725</td><td>&quot;JFK&quot;</td><td>&quot;BQN&quot;</td></tr><tr><td>&quot;DL&quot;</td><td>&quot;Delta Air Lines Inc.&quot;</td><td>461</td><td>&quot;LGA&quot;</td><td>&quot;ATL&quot;</td></tr><tr><td>&hellip;</td><td>&hellip;</td><td>&hellip;</td><td>&hellip;</td><td>&hellip;</td></tr><tr><td>&quot;B6&quot;</td><td>&quot;JetBlue Airways&quot;</td><td>1806</td><td>&quot;JFK&quot;</td><td>&quot;BOS&quot;</td></tr><tr><td>&quot;UA&quot;</td><td>&quot;United Air Lines Inc.&quot;</td><td>1187</td><td>&quot;EWR&quot;</td><td>&quot;LAS&quot;</td></tr><tr><td>&quot;B6&quot;</td><td>&quot;JetBlue Airways&quot;</td><td>371</td><td>&quot;LGA&quot;</td><td>&quot;FLL&quot;</td></tr><tr><td>&quot;MQ&quot;</td><td>&quot;Envoy Air&quot;</td><td>4650</td><td>&quot;LGA&quot;</td><td>&quot;ATL&quot;</td></tr><tr><td>&quot;B6&quot;</td><td>&quot;JetBlue Airways&quot;</td><td>343</td><td>&quot;EWR&quot;</td><td>&quot;PBI&quot;</td></tr></tbody></table></div>"
            ]
          },
          "metadata": {},
          "execution_count": 42
        }
      ]
    },
    {
      "cell_type": "markdown",
      "metadata": {
        "id": "nXCPaLfUxB2-"
      },
      "source": [
        "### 3.2 Find the average age of planes for each carrier\n",
        "\n",
        "Hint: The planes table has a `year` column for manufacture year. Calculate age based on 2013.result = ctx.execute(\"\"\"\n",
        "    SELECT\n",
        "        f.carrier,\n",
        "        a.name AS airline_name,\n",
        "        f.flight,\n",
        "        f.origin,\n",
        "        f.dest\n",
        "    FROM flights f\n",
        "    LEFT JOIN airlines a\n",
        "      ON f.carrier = a.carrier\n",
        "    LIMIT 20\n",
        "\"\"\")\n",
        "\n",
        "result"
      ]
    },
    {
      "cell_type": "code",
      "execution_count": 43,
      "metadata": {
        "colab": {
          "base_uri": "https://localhost:8080/",
          "height": 443
        },
        "id": "yNAoLSKxxB2-",
        "outputId": "feafbfd8-421c-4794-ecc3-ade83ff7558a"
      },
      "outputs": [
        {
          "output_type": "execute_result",
          "data": {
            "text/plain": [
              "shape: (16, 2)\n",
              "┌─────────┬───────────────┐\n",
              "│ carrier ┆ avg_plane_age │\n",
              "│ ---     ┆ ---           │\n",
              "│ str     ┆ f64           │\n",
              "╞═════════╪═══════════════╡\n",
              "│ MQ      ┆ 35.319        │\n",
              "│ AA      ┆ 25.869426     │\n",
              "│ DL      ┆ 16.372169     │\n",
              "│ UA      ┆ 13.207691     │\n",
              "│ FL      ┆ 11.385829     │\n",
              "│ …       ┆ …             │\n",
              "│ B6      ┆ 6.686702      │\n",
              "│ F9      ┆ 4.87874       │\n",
              "│ VX      ┆ 4.473643      │\n",
              "│ AS      ┆ 3.33662       │\n",
              "│ HA      ┆ 1.548387      │\n",
              "└─────────┴───────────────┘"
            ],
            "text/html": [
              "<div><style>\n",
              ".dataframe > thead > tr,\n",
              ".dataframe > tbody > tr {\n",
              "  text-align: right;\n",
              "  white-space: pre-wrap;\n",
              "}\n",
              "</style>\n",
              "<small>shape: (16, 2)</small><table border=\"1\" class=\"dataframe\"><thead><tr><th>carrier</th><th>avg_plane_age</th></tr><tr><td>str</td><td>f64</td></tr></thead><tbody><tr><td>&quot;MQ&quot;</td><td>35.319</td></tr><tr><td>&quot;AA&quot;</td><td>25.869426</td></tr><tr><td>&quot;DL&quot;</td><td>16.372169</td></tr><tr><td>&quot;UA&quot;</td><td>13.207691</td></tr><tr><td>&quot;FL&quot;</td><td>11.385829</td></tr><tr><td>&hellip;</td><td>&hellip;</td></tr><tr><td>&quot;B6&quot;</td><td>6.686702</td></tr><tr><td>&quot;F9&quot;</td><td>4.87874</td></tr><tr><td>&quot;VX&quot;</td><td>4.473643</td></tr><tr><td>&quot;AS&quot;</td><td>3.33662</td></tr><tr><td>&quot;HA&quot;</td><td>1.548387</td></tr></tbody></table></div>"
            ]
          },
          "metadata": {},
          "execution_count": 43
        }
      ],
      "source": [
        "# Write your SQL query here\n",
        "\n",
        "result = ctx.execute(\"\"\"\n",
        "    SELECT\n",
        "        f.carrier,\n",
        "        AVG(2013 - p.year) AS avg_plane_age\n",
        "    FROM flights f\n",
        "    INNER JOIN planes p\n",
        "      ON f.tailnum = p.tailnum\n",
        "    WHERE p.year IS NOT NULL\n",
        "    GROUP BY f.carrier\n",
        "    ORDER BY avg_plane_age DESC\n",
        "\"\"\")\n",
        "\n",
        "# print(result)\n",
        "result"
      ]
    },
    {
      "cell_type": "markdown",
      "metadata": {
        "id": "i8WUl1VGxB2-"
      },
      "source": [
        "### 3.3 Find flights that experienced both departure delays and bad weather\n",
        "\n",
        "Join flights with weather data and find flights where departure delay > 30 minutes and either wind_speed > 20 or precip > 0.1"
      ]
    },
    {
      "cell_type": "code",
      "execution_count": 45,
      "metadata": {
        "colab": {
          "base_uri": "https://localhost:8080/",
          "height": 411
        },
        "id": "TE2Ham0WxB2-",
        "outputId": "ecaf5273-70eb-475c-dbb2-0b60b8f71c82"
      },
      "outputs": [
        {
          "output_type": "execute_result",
          "data": {
            "text/plain": [
              "shape: (10, 10)\n",
              "┌──────┬───────┬─────┬──────┬───┬────────┬───────────┬────────────┬────────┐\n",
              "│ year ┆ month ┆ day ┆ hour ┆ … ┆ flight ┆ dep_delay ┆ wind_speed ┆ precip │\n",
              "│ ---  ┆ ---   ┆ --- ┆ ---  ┆   ┆ ---    ┆ ---       ┆ ---        ┆ ---    │\n",
              "│ i64  ┆ i64   ┆ i64 ┆ i64  ┆   ┆ i64    ┆ i64       ┆ f64        ┆ f64    │\n",
              "╞══════╪═══════╪═════╪══════╪═══╪════════╪═══════════╪════════════╪════════╡\n",
              "│ 2013 ┆ 4     ┆ 10  ┆ 19   ┆ … ┆ 2391   ┆ 960       ┆ 31.07106   ┆ 0.11   │\n",
              "│ 2013 ┆ 12    ┆ 14  ┆ 18   ┆ … ┆ 2391   ┆ 825       ┆ 20.71404   ┆ 0.01   │\n",
              "│ 2013 ┆ 4     ┆ 19  ┆ 17   ┆ … ┆ 257    ┆ 797       ┆ 25.31716   ┆ 0.0    │\n",
              "│ 2013 ┆ 4     ┆ 19  ┆ 17   ┆ … ┆ 1901   ┆ 761       ┆ 25.31716   ┆ 0.0    │\n",
              "│ 2013 ┆ 4     ┆ 10  ┆ 19   ┆ … ┆ 1485   ┆ 639       ┆ 33.37262   ┆ 0.14   │\n",
              "│ 2013 ┆ 11    ┆ 24  ┆ 12   ┆ … ┆ 1697   ┆ 636       ┆ 29.92028   ┆ 0.0    │\n",
              "│ 2013 ┆ 5     ┆ 9   ┆ 10   ┆ … ┆ 731    ┆ 504       ┆ 12.65858   ┆ 0.23   │\n",
              "│ 2013 ┆ 5     ┆ 23  ┆ 15   ┆ … ┆ 341    ┆ 466       ┆ 18.41248   ┆ 0.19   │\n",
              "│ 2013 ┆ 4     ┆ 10  ┆ 20   ┆ … ┆ 985    ┆ 437       ┆ 17.2617    ┆ 0.14   │\n",
              "│ 2013 ┆ 12    ┆ 29  ┆ 17   ┆ … ┆ 2379   ┆ 420       ┆ 20.71404   ┆ 0.04   │\n",
              "└──────┴───────┴─────┴──────┴───┴────────┴───────────┴────────────┴────────┘"
            ],
            "text/html": [
              "<div><style>\n",
              ".dataframe > thead > tr,\n",
              ".dataframe > tbody > tr {\n",
              "  text-align: right;\n",
              "  white-space: pre-wrap;\n",
              "}\n",
              "</style>\n",
              "<small>shape: (10, 10)</small><table border=\"1\" class=\"dataframe\"><thead><tr><th>year</th><th>month</th><th>day</th><th>hour</th><th>origin</th><th>dest</th><th>flight</th><th>dep_delay</th><th>wind_speed</th><th>precip</th></tr><tr><td>i64</td><td>i64</td><td>i64</td><td>i64</td><td>str</td><td>str</td><td>i64</td><td>i64</td><td>f64</td><td>f64</td></tr></thead><tbody><tr><td>2013</td><td>4</td><td>10</td><td>19</td><td>&quot;JFK&quot;</td><td>&quot;TPA&quot;</td><td>2391</td><td>960</td><td>31.07106</td><td>0.11</td></tr><tr><td>2013</td><td>12</td><td>14</td><td>18</td><td>&quot;JFK&quot;</td><td>&quot;TPA&quot;</td><td>2391</td><td>825</td><td>20.71404</td><td>0.01</td></tr><tr><td>2013</td><td>4</td><td>19</td><td>17</td><td>&quot;JFK&quot;</td><td>&quot;LAS&quot;</td><td>257</td><td>797</td><td>25.31716</td><td>0.0</td></tr><tr><td>2013</td><td>4</td><td>19</td><td>17</td><td>&quot;JFK&quot;</td><td>&quot;IAH&quot;</td><td>1901</td><td>761</td><td>25.31716</td><td>0.0</td></tr><tr><td>2013</td><td>4</td><td>10</td><td>19</td><td>&quot;LGA&quot;</td><td>&quot;MCO&quot;</td><td>1485</td><td>639</td><td>33.37262</td><td>0.14</td></tr><tr><td>2013</td><td>11</td><td>24</td><td>12</td><td>&quot;JFK&quot;</td><td>&quot;MIA&quot;</td><td>1697</td><td>636</td><td>29.92028</td><td>0.0</td></tr><tr><td>2013</td><td>5</td><td>9</td><td>10</td><td>&quot;LGA&quot;</td><td>&quot;DFW&quot;</td><td>731</td><td>504</td><td>12.65858</td><td>0.23</td></tr><tr><td>2013</td><td>5</td><td>23</td><td>15</td><td>&quot;LGA&quot;</td><td>&quot;ORD&quot;</td><td>341</td><td>466</td><td>18.41248</td><td>0.19</td></tr><tr><td>2013</td><td>4</td><td>10</td><td>20</td><td>&quot;JFK&quot;</td><td>&quot;BOS&quot;</td><td>985</td><td>437</td><td>17.2617</td><td>0.14</td></tr><tr><td>2013</td><td>12</td><td>29</td><td>17</td><td>&quot;LGA&quot;</td><td>&quot;MIA&quot;</td><td>2379</td><td>420</td><td>20.71404</td><td>0.04</td></tr></tbody></table></div>"
            ]
          },
          "metadata": {},
          "execution_count": 45
        }
      ],
      "source": [
        "# First, explore the weather table structure\n",
        "result = ctx.execute(\"\"\"\n",
        "    SELECT *\n",
        "    FROM weather\n",
        "    LIMIT 5\n",
        "\"\"\")\n",
        "# print(result)\n",
        "result\n",
        "\n",
        "# Now write your join query\n",
        "result = ctx.execute(\"\"\"\n",
        "   SELECT\n",
        "        f.year, f.month, f.day, f.hour,\n",
        "        f.origin, f.dest, f.flight, f.dep_delay,\n",
        "        w.wind_speed, w.precip\n",
        "    FROM flights f\n",
        "    INNER JOIN weather w\n",
        "      ON f.time_hour = w.time_hour\n",
        "     AND f.origin = w.origin\n",
        "    WHERE f.dep_delay > 30\n",
        "      AND (w.wind_speed > 20 OR w.precip > 0.1)\n",
        "    ORDER BY f.dep_delay DESC\n",
        "    LIMIT 10\n",
        "\"\"\")\n",
        "\n",
        "# print(result)\n",
        "\n",
        "result"
      ]
    },
    {
      "cell_type": "markdown",
      "metadata": {
        "id": "_BeYGW6ZxB2-"
      },
      "source": [
        "## Exercise 4: Advanced Queries\n",
        "\n",
        "### 4.1 Find the most popular aircraft types (by number of flights)\n",
        "\n",
        "Join flights with planes to get manufacturer and model information. Show top 10."
      ]
    },
    {
      "cell_type": "code",
      "execution_count": 47,
      "metadata": {
        "colab": {
          "base_uri": "https://localhost:8080/",
          "height": 411
        },
        "id": "t2Jlqz-YxB2_",
        "outputId": "a43bb7d3-8f7a-45f0-ea3b-26ba786e3b5e"
      },
      "outputs": [
        {
          "output_type": "execute_result",
          "data": {
            "text/plain": [
              "shape: (10, 3)\n",
              "┌───────────────────────────────┬─────────────────┬─────────────┐\n",
              "│ manufacturer                  ┆ model           ┆ num_flights │\n",
              "│ ---                           ┆ ---             ┆ ---         │\n",
              "│ str                           ┆ str             ┆ u32         │\n",
              "╞═══════════════════════════════╪═════════════════╪═════════════╡\n",
              "│ AIRBUS                        ┆ A320-232        ┆ 31278       │\n",
              "│ EMBRAER                       ┆ EMB-145LR       ┆ 28027       │\n",
              "│ EMBRAER                       ┆ ERJ 190-100 IGW ┆ 23716       │\n",
              "│ AIRBUS INDUSTRIE              ┆ A320-232        ┆ 14553       │\n",
              "│ EMBRAER                       ┆ EMB-145XR       ┆ 14051       │\n",
              "│ BOEING                        ┆ 737-824         ┆ 13809       │\n",
              "│ BOMBARDIER INC                ┆ CL-600-2D24     ┆ 11807       │\n",
              "│ BOEING                        ┆ 737-7H4         ┆ 10389       │\n",
              "│ BOEING                        ┆ 757-222         ┆ 9150        │\n",
              "│ MCDONNELL DOUGLAS AIRCRAFT CO ┆ MD-88           ┆ 8932        │\n",
              "└───────────────────────────────┴─────────────────┴─────────────┘"
            ],
            "text/html": [
              "<div><style>\n",
              ".dataframe > thead > tr,\n",
              ".dataframe > tbody > tr {\n",
              "  text-align: right;\n",
              "  white-space: pre-wrap;\n",
              "}\n",
              "</style>\n",
              "<small>shape: (10, 3)</small><table border=\"1\" class=\"dataframe\"><thead><tr><th>manufacturer</th><th>model</th><th>num_flights</th></tr><tr><td>str</td><td>str</td><td>u32</td></tr></thead><tbody><tr><td>&quot;AIRBUS&quot;</td><td>&quot;A320-232&quot;</td><td>31278</td></tr><tr><td>&quot;EMBRAER&quot;</td><td>&quot;EMB-145LR&quot;</td><td>28027</td></tr><tr><td>&quot;EMBRAER&quot;</td><td>&quot;ERJ 190-100 IGW&quot;</td><td>23716</td></tr><tr><td>&quot;AIRBUS INDUSTRIE&quot;</td><td>&quot;A320-232&quot;</td><td>14553</td></tr><tr><td>&quot;EMBRAER&quot;</td><td>&quot;EMB-145XR&quot;</td><td>14051</td></tr><tr><td>&quot;BOEING&quot;</td><td>&quot;737-824&quot;</td><td>13809</td></tr><tr><td>&quot;BOMBARDIER INC&quot;</td><td>&quot;CL-600-2D24&quot;</td><td>11807</td></tr><tr><td>&quot;BOEING&quot;</td><td>&quot;737-7H4&quot;</td><td>10389</td></tr><tr><td>&quot;BOEING&quot;</td><td>&quot;757-222&quot;</td><td>9150</td></tr><tr><td>&quot;MCDONNELL DOUGLAS AIRCRAFT CO&quot;</td><td>&quot;MD-88&quot;</td><td>8932</td></tr></tbody></table></div>"
            ]
          },
          "metadata": {},
          "execution_count": 47
        }
      ],
      "source": [
        "# Write your SQL query here\n",
        "result = ctx.execute(\"\"\"\n",
        "   SELECT\n",
        "        p.manufacturer,\n",
        "        p.model,\n",
        "        COUNT(*) AS num_flights\n",
        "    FROM flights f\n",
        "    INNER JOIN planes p\n",
        "      ON f.tailnum = p.tailnum\n",
        "    GROUP BY p.manufacturer, p.model\n",
        "    ORDER BY num_flights DESC\n",
        "    LIMIT 10\n",
        "\"\"\")\n",
        "\n",
        "# print(result)\n",
        "result"
      ]
    },
    {
      "cell_type": "markdown",
      "metadata": {
        "id": "ZLkcF37OxB2_"
      },
      "source": [
        "### 4.2 Analyze route performance\n",
        "\n",
        "Find the top 10 routes (origin-destination pairs) with:\n",
        "- Total number of flights\n",
        "- Average departure delay\n",
        "- Percentage of flights delayed more than 30 minutes\n",
        "\n",
        "Include airport names, not just codes."
      ]
    },
    {
      "cell_type": "code",
      "execution_count": 78,
      "metadata": {
        "colab": {
          "base_uri": "https://localhost:8080/",
          "height": 411
        },
        "id": "DlzTjUW_xB2_",
        "outputId": "a38e8668-8916-4a92-d0ea-0994577c3f8f"
      },
      "outputs": [
        {
          "output_type": "execute_result",
          "data": {
            "text/plain": [
              "shape: (10, 4)\n",
              "┌────────┬──────┬───────────────┬────────────┐\n",
              "│ origin ┆ dest ┆ total_flights ┆ delay_rate │\n",
              "│ ---    ┆ ---  ┆ ---           ┆ ---        │\n",
              "│ str    ┆ str  ┆ u32           ┆ f64        │\n",
              "╞════════╪══════╪═══════════════╪════════════╡\n",
              "│ JFK    ┆ LAX  ┆ 11262         ┆ 25.035727  │\n",
              "│ LGA    ┆ ATL  ┆ 10263         ┆ 26.750645  │\n",
              "│ LGA    ┆ ORD  ┆ 8857          ┆ 25.187178  │\n",
              "│ JFK    ┆ SFO  ┆ 8204          ┆ 26.898501  │\n",
              "│ LGA    ┆ CLT  ┆ 6168          ┆ 24.560228  │\n",
              "│ EWR    ┆ ORD  ┆ 6100          ┆ 33.37891   │\n",
              "│ JFK    ┆ BOS  ┆ 5898          ┆ 28.06775   │\n",
              "│ LGA    ┆ MIA  ┆ 5781          ┆ 22.497817  │\n",
              "│ JFK    ┆ MCO  ┆ 5464          ┆ 30.327567  │\n",
              "│ EWR    ┆ BOS  ┆ 5327          ┆ 30.908398  │\n",
              "└────────┴──────┴───────────────┴────────────┘"
            ],
            "text/html": [
              "<div><style>\n",
              ".dataframe > thead > tr,\n",
              ".dataframe > tbody > tr {\n",
              "  text-align: right;\n",
              "  white-space: pre-wrap;\n",
              "}\n",
              "</style>\n",
              "<small>shape: (10, 4)</small><table border=\"1\" class=\"dataframe\"><thead><tr><th>origin</th><th>dest</th><th>total_flights</th><th>delay_rate</th></tr><tr><td>str</td><td>str</td><td>u32</td><td>f64</td></tr></thead><tbody><tr><td>&quot;JFK&quot;</td><td>&quot;LAX&quot;</td><td>11262</td><td>25.035727</td></tr><tr><td>&quot;LGA&quot;</td><td>&quot;ATL&quot;</td><td>10263</td><td>26.750645</td></tr><tr><td>&quot;LGA&quot;</td><td>&quot;ORD&quot;</td><td>8857</td><td>25.187178</td></tr><tr><td>&quot;JFK&quot;</td><td>&quot;SFO&quot;</td><td>8204</td><td>26.898501</td></tr><tr><td>&quot;LGA&quot;</td><td>&quot;CLT&quot;</td><td>6168</td><td>24.560228</td></tr><tr><td>&quot;EWR&quot;</td><td>&quot;ORD&quot;</td><td>6100</td><td>33.37891</td></tr><tr><td>&quot;JFK&quot;</td><td>&quot;BOS&quot;</td><td>5898</td><td>28.06775</td></tr><tr><td>&quot;LGA&quot;</td><td>&quot;MIA&quot;</td><td>5781</td><td>22.497817</td></tr><tr><td>&quot;JFK&quot;</td><td>&quot;MCO&quot;</td><td>5464</td><td>30.327567</td></tr><tr><td>&quot;EWR&quot;</td><td>&quot;BOS&quot;</td><td>5327</td><td>30.908398</td></tr></tbody></table></div>"
            ]
          },
          "metadata": {},
          "execution_count": 78
        }
      ],
      "source": [
        "# Write your SQL query here\n",
        "result = ctx.execute(\"\"\"\n",
        " SELECT\n",
        "    origin,\n",
        "    dest,\n",
        "    COUNT(*) AS total_flights,\n",
        "    AVG(dep_delay > 5)*100 AS delay_rate\n",
        "FROM flights\n",
        "GROUP BY origin, dest\n",
        "ORDER BY total_flights DESC, delay_rate ASC\n",
        "LIMIT 10;\n",
        "\"\"\")\n",
        "\n",
        "# print(result)\n",
        "result"
      ]
    },
    {
      "cell_type": "code",
      "source": [
        "result = ctx.execute(\"\"\"\n",
        "SELECT\n",
        "origin,\n",
        "    dest,\n",
        "    COUNT(*) AS total_flights,\n",
        "    CONCAT(\n",
        "        ROUND(\n",
        "            100.0 * SUM(CASE WHEN dep_delay > 30 THEN 1 ELSE 0 END)\n",
        "            / NULLIF(COUNT(dep_delay), 0)\n",
        "        , 2),\n",
        "        '%'\n",
        "    ) AS pct_delayed_over_30\n",
        "FROM flights\n",
        "GROUP BY origin, dest\n",
        "ORDER BY origin, dest;\n",
        "\"\"\")\n",
        "\n",
        "result"
      ],
      "metadata": {
        "colab": {
          "base_uri": "https://localhost:8080/",
          "height": 443
        },
        "id": "dMlCo4fog2y8",
        "outputId": "d9be88b6-1141-4c09-8bb4-c9611b10ee29"
      },
      "execution_count": 80,
      "outputs": [
        {
          "output_type": "execute_result",
          "data": {
            "text/plain": [
              "shape: (224, 4)\n",
              "┌────────┬──────┬───────────────┬─────────────────────┐\n",
              "│ origin ┆ dest ┆ total_flights ┆ pct_delayed_over_30 │\n",
              "│ ---    ┆ ---  ┆ ---           ┆ ---                 │\n",
              "│ str    ┆ str  ┆ u32           ┆ str                 │\n",
              "╞════════╪══════╪═══════════════╪═════════════════════╡\n",
              "│ EWR    ┆ ALB  ┆ 439           ┆ 27.21%              │\n",
              "│ EWR    ┆ ANC  ┆ 8             ┆ 12.5%               │\n",
              "│ EWR    ┆ ATL  ┆ 5022          ┆ 16.38%              │\n",
              "│ EWR    ┆ AUS  ┆ 968           ┆ 13.56%              │\n",
              "│ EWR    ┆ AVL  ┆ 265           ┆ 13.83%              │\n",
              "│ …      ┆ …    ┆ …             ┆ …                   │\n",
              "│ LGA    ┆ SYR  ┆ 293           ┆ 20.66%              │\n",
              "│ LGA    ┆ TPA  ┆ 2145          ┆ 12.96%              │\n",
              "│ LGA    ┆ TVC  ┆ 77            ┆ 20.55%              │\n",
              "│ LGA    ┆ TYS  ┆ 308           ┆ 19.25%              │\n",
              "│ LGA    ┆ XNA  ┆ 745           ┆ 11.72%              │\n",
              "└────────┴──────┴───────────────┴─────────────────────┘"
            ],
            "text/html": [
              "<div><style>\n",
              ".dataframe > thead > tr,\n",
              ".dataframe > tbody > tr {\n",
              "  text-align: right;\n",
              "  white-space: pre-wrap;\n",
              "}\n",
              "</style>\n",
              "<small>shape: (224, 4)</small><table border=\"1\" class=\"dataframe\"><thead><tr><th>origin</th><th>dest</th><th>total_flights</th><th>pct_delayed_over_30</th></tr><tr><td>str</td><td>str</td><td>u32</td><td>str</td></tr></thead><tbody><tr><td>&quot;EWR&quot;</td><td>&quot;ALB&quot;</td><td>439</td><td>&quot;27.21%&quot;</td></tr><tr><td>&quot;EWR&quot;</td><td>&quot;ANC&quot;</td><td>8</td><td>&quot;12.5%&quot;</td></tr><tr><td>&quot;EWR&quot;</td><td>&quot;ATL&quot;</td><td>5022</td><td>&quot;16.38%&quot;</td></tr><tr><td>&quot;EWR&quot;</td><td>&quot;AUS&quot;</td><td>968</td><td>&quot;13.56%&quot;</td></tr><tr><td>&quot;EWR&quot;</td><td>&quot;AVL&quot;</td><td>265</td><td>&quot;13.83%&quot;</td></tr><tr><td>&hellip;</td><td>&hellip;</td><td>&hellip;</td><td>&hellip;</td></tr><tr><td>&quot;LGA&quot;</td><td>&quot;SYR&quot;</td><td>293</td><td>&quot;20.66%&quot;</td></tr><tr><td>&quot;LGA&quot;</td><td>&quot;TPA&quot;</td><td>2145</td><td>&quot;12.96%&quot;</td></tr><tr><td>&quot;LGA&quot;</td><td>&quot;TVC&quot;</td><td>77</td><td>&quot;20.55%&quot;</td></tr><tr><td>&quot;LGA&quot;</td><td>&quot;TYS&quot;</td><td>308</td><td>&quot;19.25%&quot;</td></tr><tr><td>&quot;LGA&quot;</td><td>&quot;XNA&quot;</td><td>745</td><td>&quot;11.72%&quot;</td></tr></tbody></table></div>"
            ]
          },
          "metadata": {},
          "execution_count": 80
        }
      ]
    },
    {
      "cell_type": "markdown",
      "metadata": {
        "id": "mUnYUOvcxB2_"
      },
      "source": [
        "## Bonus: Compare with Polars\n",
        "\n",
        "### Choose one of the queries above and implement it using Polars\n",
        "\n",
        "This will help you understand the relationship between SQL and Polars operations."
      ]
    },
    {
      "cell_type": "code",
      "execution_count": 86,
      "metadata": {
        "colab": {
          "base_uri": "https://localhost:8080/",
          "height": 731
        },
        "id": "OOKVEqPTxB3A",
        "outputId": "ff213ed5-afdc-425a-8c75-78d4b0b0ed7b"
      },
      "outputs": [
        {
          "output_type": "stream",
          "name": "stdout",
          "text": [
            "SQL Result:\n",
            "shape: (3, 2)\n",
            "┌────────┬───────────┐\n",
            "│ origin ┆ avg_delay │\n",
            "│ ---    ┆ ---       │\n",
            "│ str    ┆ f64       │\n",
            "╞════════╪═══════════╡\n",
            "│ EWR    ┆ 15.107954 │\n",
            "│ JFK    ┆ 12.112159 │\n",
            "│ LGA    ┆ 10.346876 │\n",
            "└────────┴───────────┘\n",
            "\n",
            "Polars Result:\n",
            "shape: (3, 2)\n",
            "┌────────┬───────────┐\n",
            "│ origin ┆ avg_delay │\n",
            "│ ---    ┆ ---       │\n",
            "│ str    ┆ f64       │\n",
            "╞════════╪═══════════╡\n",
            "│ EWR    ┆ 15.107954 │\n",
            "│ JFK    ┆ 12.112159 │\n",
            "│ LGA    ┆ 10.346876 │\n",
            "└────────┴───────────┘\n"
          ]
        },
        {
          "output_type": "error",
          "ename": "ValueError",
          "evalue": "number of placeholders should equal the number of arguments",
          "traceback": [
            "\u001b[0;31m---------------------------------------------------------------------------\u001b[0m",
            "\u001b[0;31mValueError\u001b[0m                                Traceback (most recent call last)",
            "\u001b[0;32m/tmp/ipython-input-3604209739.py\u001b[0m in \u001b[0;36m<cell line: 0>\u001b[0;34m()\u001b[0m\n\u001b[1;32m     50\u001b[0m             \u001b[0;34m.\u001b[0m\u001b[0malias\u001b[0m\u001b[0;34m(\u001b[0m\u001b[0;34m\"pct_delayed_over_30\"\u001b[0m\u001b[0;34m)\u001b[0m\u001b[0;34m,\u001b[0m\u001b[0;34m\u001b[0m\u001b[0;34m\u001b[0m\u001b[0m\n\u001b[1;32m     51\u001b[0m         \u001b[0;31m# pretty string with % symbol\u001b[0m\u001b[0;34m\u001b[0m\u001b[0;34m\u001b[0m\u001b[0m\n\u001b[0;32m---> 52\u001b[0;31m         \u001b[0mpl\u001b[0m\u001b[0;34m.\u001b[0m\u001b[0mformat\u001b[0m\u001b[0;34m(\u001b[0m\u001b[0;34m\"{:.2f}%\"\u001b[0m\u001b[0;34m,\u001b[0m \u001b[0mpl\u001b[0m\u001b[0;34m.\u001b[0m\u001b[0mcol\u001b[0m\u001b[0;34m(\u001b[0m\u001b[0;34m\"pct_delayed_over_30\"\u001b[0m\u001b[0;34m)\u001b[0m\u001b[0;34m)\u001b[0m\u001b[0;34m.\u001b[0m\u001b[0malias\u001b[0m\u001b[0;34m(\u001b[0m\u001b[0;34m\"pct_delayed_over_30_str\"\u001b[0m\u001b[0;34m)\u001b[0m\u001b[0;34m\u001b[0m\u001b[0;34m\u001b[0m\u001b[0m\n\u001b[0m\u001b[1;32m     53\u001b[0m     ])\n\u001b[1;32m     54\u001b[0m     \u001b[0;34m.\u001b[0m\u001b[0mselect\u001b[0m\u001b[0;34m(\u001b[0m\u001b[0;34m[\u001b[0m\u001b[0;34m\"origin\"\u001b[0m\u001b[0;34m,\u001b[0m \u001b[0;34m\"dest\"\u001b[0m\u001b[0;34m,\u001b[0m \u001b[0;34m\"total_flights\"\u001b[0m\u001b[0;34m,\u001b[0m \u001b[0;34m\"pct_delayed_over_30_str\"\u001b[0m\u001b[0;34m]\u001b[0m\u001b[0;34m)\u001b[0m\u001b[0;34m\u001b[0m\u001b[0;34m\u001b[0m\u001b[0m\n",
            "\u001b[0;32m/usr/local/lib/python3.11/dist-packages/polars/functions/as_datatype.py\u001b[0m in \u001b[0;36mformat\u001b[0;34m(f_string, *args)\u001b[0m\n\u001b[1;32m    836\u001b[0m     \u001b[0;32mif\u001b[0m \u001b[0mf_string\u001b[0m\u001b[0;34m.\u001b[0m\u001b[0mcount\u001b[0m\u001b[0;34m(\u001b[0m\u001b[0;34m\"{}\"\u001b[0m\u001b[0;34m)\u001b[0m \u001b[0;34m!=\u001b[0m \u001b[0mlen\u001b[0m\u001b[0;34m(\u001b[0m\u001b[0margs\u001b[0m\u001b[0;34m)\u001b[0m\u001b[0;34m:\u001b[0m\u001b[0;34m\u001b[0m\u001b[0;34m\u001b[0m\u001b[0m\n\u001b[1;32m    837\u001b[0m         \u001b[0mmsg\u001b[0m \u001b[0;34m=\u001b[0m \u001b[0;34m\"number of placeholders should equal the number of arguments\"\u001b[0m\u001b[0;34m\u001b[0m\u001b[0;34m\u001b[0m\u001b[0m\n\u001b[0;32m--> 838\u001b[0;31m         \u001b[0;32mraise\u001b[0m \u001b[0mValueError\u001b[0m\u001b[0;34m(\u001b[0m\u001b[0mmsg\u001b[0m\u001b[0;34m)\u001b[0m\u001b[0;34m\u001b[0m\u001b[0;34m\u001b[0m\u001b[0m\n\u001b[0m\u001b[1;32m    839\u001b[0m \u001b[0;34m\u001b[0m\u001b[0m\n\u001b[1;32m    840\u001b[0m     \u001b[0mexprs\u001b[0m \u001b[0;34m=\u001b[0m \u001b[0;34m[\u001b[0m\u001b[0;34m]\u001b[0m\u001b[0;34m\u001b[0m\u001b[0;34m\u001b[0m\u001b[0m\n",
            "\u001b[0;31mValueError\u001b[0m: number of placeholders should equal the number of arguments"
          ]
        }
      ],
      "source": [
        "# Example: Let's implement Exercise 2.1 (average delay by origin) in Polars\n",
        "\n",
        "# SQL version (for reference)\n",
        "sql_result = ctx.execute(\"\"\"\n",
        "    SELECT\n",
        "        origin,\n",
        "        AVG(dep_delay) as avg_delay\n",
        "    FROM flights\n",
        "    WHERE dep_delay IS NOT NULL\n",
        "    GROUP BY origin\n",
        "    ORDER BY avg_delay DESC\n",
        "\"\"\")\n",
        "\n",
        "# Polars version\n",
        "polars_result = (\n",
        "    flights\n",
        "    .filter(pl.col('dep_delay').is_not_null())\n",
        "    .group_by('origin')\n",
        "    .agg(pl.col('dep_delay').mean().alias('avg_delay'))\n",
        "    .sort('avg_delay', descending=True)\n",
        ")\n",
        "\n",
        "print(\"SQL Result:\")\n",
        "print(sql_result)\n",
        "print(\"\\nPolars Result:\")\n",
        "print(polars_result)\n",
        "\n",
        "# Now implement one of your own queries in Polars below:\n",
        "# Your Polars code here\n",
        "\n",
        "\n",
        "\n"
      ]
    },
    {
      "cell_type": "code",
      "source": [
        "import polars as pl\n",
        "\n",
        "# Top 10 routes with % of flights delayed > 30 minutes\n",
        "polars_result = (\n",
        "    flights\n",
        "    .group_by([\"origin\", \"dest\"])\n",
        "    .agg([\n",
        "        pl.len().alias(\"total_flights\"),\n",
        "        ((pl.col(\"dep_delay\").is_not_null() & (pl.col(\"dep_delay\") > 30))\n",
        "         .cast(pl.Int64)\n",
        "         .sum()\n",
        "        ).alias(\"delayed_over_30\"),\n",
        "        pl.col(\"dep_delay\").count().alias(\"dep_delay_non_null\")\n",
        "    ])\n",
        "    .with_columns([\n",
        "        ((pl.col(\"delayed_over_30\") * 100.0) / pl.col(\"dep_delay_non_null\"))\n",
        "            .round(2)\n",
        "            .alias(\"pct_delayed_over_30\")\n",
        "    ])\n",
        "    .select([\"origin\", \"dest\", \"total_flights\", \"delayed_over_30\", \"pct_delayed_over_30\"])\n",
        "    .sort(\"pct_delayed_over_30\", descending=True)\n",
        "    .head(10)\n",
        ")\n",
        "\n",
        "print(polars_result)"
      ],
      "metadata": {
        "colab": {
          "base_uri": "https://localhost:8080/"
        },
        "id": "TDLxFXtlsUSs",
        "outputId": "7ccd782a-03d5-443b-c1b6-ddbb3d4b7be2"
      },
      "execution_count": 88,
      "outputs": [
        {
          "output_type": "stream",
          "name": "stdout",
          "text": [
            "shape: (10, 5)\n",
            "┌────────┬──────┬───────────────┬─────────────────┬─────────────────────┐\n",
            "│ origin ┆ dest ┆ total_flights ┆ delayed_over_30 ┆ pct_delayed_over_30 │\n",
            "│ ---    ┆ ---  ┆ ---           ┆ ---             ┆ ---                 │\n",
            "│ str    ┆ str  ┆ u32           ┆ i64             ┆ f64                 │\n",
            "╞════════╪══════╪═══════════════╪═════════════════╪═════════════════════╡\n",
            "│ EWR    ┆ LGA  ┆ 1             ┆ 0               ┆ NaN                 │\n",
            "│ LGA    ┆ SBN  ┆ 6             ┆ 3               ┆ 50.0                │\n",
            "│ EWR    ┆ TYS  ┆ 323           ┆ 121             ┆ 38.54               │\n",
            "│ EWR    ┆ TUL  ┆ 315           ┆ 112             ┆ 37.46               │\n",
            "│ EWR    ┆ CAE  ┆ 104           ┆ 33              ┆ 34.74               │\n",
            "│ EWR    ┆ OKC  ┆ 346           ┆ 112             ┆ 34.25               │\n",
            "│ LGA    ┆ CAE  ┆ 12            ┆ 4               ┆ 33.33               │\n",
            "│ LGA    ┆ BHM  ┆ 296           ┆ 88              ┆ 32.47               │\n",
            "│ EWR    ┆ DSM  ┆ 411           ┆ 121             ┆ 30.79               │\n",
            "│ EWR    ┆ ROC  ┆ 513           ┆ 147             ┆ 30.0                │\n",
            "└────────┴──────┴───────────────┴─────────────────┴─────────────────────┘\n"
          ]
        }
      ]
    }
  ],
  "metadata": {
    "kernelspec": {
      "display_name": "Python 3",
      "language": "python",
      "name": "python3"
    },
    "language_info": {
      "codemirror_mode": {
        "name": "ipython",
        "version": 3
      },
      "file_extension": ".py",
      "mimetype": "text/x-python",
      "name": "python",
      "nbconvert_exporter": "python",
      "pygments_lexer": "ipython3",
      "version": "3.8.0"
    },
    "colab": {
      "provenance": []
    }
  },
  "nbformat": 4,
  "nbformat_minor": 0
}